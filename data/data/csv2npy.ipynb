{
 "cells": [
  {
   "cell_type": "code",
   "execution_count": 3,
   "id": "b2f41c29",
   "metadata": {},
   "outputs": [],
   "source": [
    "\"\"\"Convert encoded csv files to one-hot-encoded npy files.\"\"\"\n",
    "\n",
    "import pandas as pd\n",
    "import numpy as np\n",
    "import argparse\n",
    "from tqdm import tqdm"
   ]
  },
  {
   "cell_type": "code",
   "execution_count": 1,
   "id": "7549ba24",
   "metadata": {},
   "outputs": [],
   "source": [
    "def data_conversion(df,tid_col):\n",
    "    \"\"\"Converts input panda dataframe to one-hot-encoded Numpy array (locations are still in float).\"\"\"\n",
    "\n",
    "    feature_size = {\"lat_lon\":2,\"day\":7,\"hour\":24,\"category\":10,\"mask\":1}\n",
    "    \n",
    "    x = [[] for i in ['lat_lon', 'day', 'hour', 'category', 'mask']]\n",
    "    #x리스트안에 keys의 수 만큼 리스트가 만들어짐\n",
    "    \n",
    "    p_lat_centroid = (df['lat'].sum())/len(df)\n",
    "    p_lon_centroid = (df['lon'].sum())/len(df)\n",
    "\n",
    "\n",
    "\n",
    "    for tid in tqdm(df[tid_col].unique()):#df안에 tid_col의 열안의 데이터들 중에서 고유값들을 뽑아냄. ex)yellow_df의 vandorID라는 열에서 CMT랑 VTS값이 고유값이고 tid로 들어감.\n",
    "        traj = df.loc[df[tid_col].isin([tid])] #traj는 DataFrame형식. transpose하기 위함\n",
    "        features = np.transpose(traj.loc[:, ['lat', 'lon', 'day', 'hour', 'category']].values)\n",
    "        #yellow_df가 전부 transpose돼어 열과 행이 바뀜. 그리고 맨 마지막에 .values가 있어서 결과적으로\n",
    "        #pickup_longitude, pickup_latitude, drop~열 해당하는 값들이 리스트가 되어 리스트안의 리스트 형태로 feature에 저장됨\n",
    "    \n",
    "        p_loc_list = []\n",
    "        d_loc_list = []\n",
    "        \n",
    "        for i in range(0, len(traj)):\n",
    "            p_lat = traj['lat'].values[i] - p_lat_centroid\n",
    "            p_lon = traj['lon'].values[i] - p_lon_centroid\n",
    "            p_loc_list.append(np.array([p_lat, p_lon], dtype=np.float64))\n",
    "                      \n",
    "            \n",
    "        x[0].append(p_loc_list)\n",
    "        #feature안의 숫자는 df의 몇번째 컬럼인지를 의미함. eye안의 숫자는 train에서 vocab_size임\n",
    "        #여기서 one hot encodding이 이루어져서 카테고리 데이터들은 0과 1의 벡터들의 배열꼴로 바뀜\n",
    "        x[1].append(np.eye(7)[features[2].astype(np.int32)]) #day\n",
    "        x[2].append(np.eye(24)[features[3].astype(np.int32)]) #hour\n",
    "        x[3].append(np.eye(10)[features[4].astype(np.int32)]) #category\n",
    "        x[4].append(np.ones(shape=(features[0].shape[0],1)))\n",
    "        \n",
    "    x_train = [np.array(f) for f in x]\n",
    "    print(len(x_train[0]))\n",
    "    "
   ]
  },
  {
   "cell_type": "code",
   "execution_count": 21,
   "id": "c746ed20",
   "metadata": {},
   "outputs": [],
   "source": [
    "args = argparse.Namespace(load_path='train_latlon2.csv'\n",
    "                         ,save_path='tr2.npy')"
   ]
  },
  {
   "cell_type": "code",
   "execution_count": 22,
   "id": "2416d545",
   "metadata": {},
   "outputs": [],
   "source": [
    "    df = pd.read_csv(args.load_path)"
   ]
  },
  {
   "cell_type": "code",
   "execution_count": 23,
   "id": "ccc03570",
   "metadata": {},
   "outputs": [
    {
     "data": {
      "text/html": [
       "<div>\n",
       "<style scoped>\n",
       "    .dataframe tbody tr th:only-of-type {\n",
       "        vertical-align: middle;\n",
       "    }\n",
       "\n",
       "    .dataframe tbody tr th {\n",
       "        vertical-align: top;\n",
       "    }\n",
       "\n",
       "    .dataframe thead th {\n",
       "        text-align: right;\n",
       "    }\n",
       "</style>\n",
       "<table border=\"1\" class=\"dataframe\">\n",
       "  <thead>\n",
       "    <tr style=\"text-align: right;\">\n",
       "      <th></th>\n",
       "      <th>tid</th>\n",
       "      <th>label</th>\n",
       "      <th>lat</th>\n",
       "      <th>lon</th>\n",
       "      <th>day</th>\n",
       "      <th>hour</th>\n",
       "      <th>category</th>\n",
       "      <th>tid2</th>\n",
       "    </tr>\n",
       "  </thead>\n",
       "  <tbody>\n",
       "    <tr>\n",
       "      <th>0</th>\n",
       "      <td>127</td>\n",
       "      <td>6</td>\n",
       "      <td>40.834098</td>\n",
       "      <td>-73.945267</td>\n",
       "      <td>0</td>\n",
       "      <td>13</td>\n",
       "      <td>0</td>\n",
       "      <td>1</td>\n",
       "    </tr>\n",
       "    <tr>\n",
       "      <th>1</th>\n",
       "      <td>127</td>\n",
       "      <td>6</td>\n",
       "      <td>40.567196</td>\n",
       "      <td>-73.882576</td>\n",
       "      <td>0</td>\n",
       "      <td>19</td>\n",
       "      <td>1</td>\n",
       "      <td>1</td>\n",
       "    </tr>\n",
       "    <tr>\n",
       "      <th>2</th>\n",
       "      <td>127</td>\n",
       "      <td>6</td>\n",
       "      <td>40.689913</td>\n",
       "      <td>-73.981504</td>\n",
       "      <td>0</td>\n",
       "      <td>23</td>\n",
       "      <td>1</td>\n",
       "      <td>1</td>\n",
       "    </tr>\n",
       "    <tr>\n",
       "      <th>3</th>\n",
       "      <td>127</td>\n",
       "      <td>6</td>\n",
       "      <td>40.708588</td>\n",
       "      <td>-73.991032</td>\n",
       "      <td>0</td>\n",
       "      <td>23</td>\n",
       "      <td>1</td>\n",
       "      <td>2</td>\n",
       "    </tr>\n",
       "    <tr>\n",
       "      <th>4</th>\n",
       "      <td>127</td>\n",
       "      <td>6</td>\n",
       "      <td>40.833165</td>\n",
       "      <td>-73.941860</td>\n",
       "      <td>1</td>\n",
       "      <td>14</td>\n",
       "      <td>2</td>\n",
       "      <td>2</td>\n",
       "    </tr>\n",
       "    <tr>\n",
       "      <th>...</th>\n",
       "      <td>...</td>\n",
       "      <td>...</td>\n",
       "      <td>...</td>\n",
       "      <td>...</td>\n",
       "      <td>...</td>\n",
       "      <td>...</td>\n",
       "      <td>...</td>\n",
       "      <td>...</td>\n",
       "    </tr>\n",
       "    <tr>\n",
       "      <th>44803</th>\n",
       "      <td>29563</td>\n",
       "      <td>1070</td>\n",
       "      <td>40.704273</td>\n",
       "      <td>-73.986759</td>\n",
       "      <td>4</td>\n",
       "      <td>17</td>\n",
       "      <td>5</td>\n",
       "      <td>14935</td>\n",
       "    </tr>\n",
       "    <tr>\n",
       "      <th>44804</th>\n",
       "      <td>29563</td>\n",
       "      <td>1070</td>\n",
       "      <td>40.704733</td>\n",
       "      <td>-73.987738</td>\n",
       "      <td>4</td>\n",
       "      <td>17</td>\n",
       "      <td>6</td>\n",
       "      <td>14935</td>\n",
       "    </tr>\n",
       "    <tr>\n",
       "      <th>44805</th>\n",
       "      <td>29563</td>\n",
       "      <td>1070</td>\n",
       "      <td>40.695163</td>\n",
       "      <td>-73.995448</td>\n",
       "      <td>4</td>\n",
       "      <td>20</td>\n",
       "      <td>0</td>\n",
       "      <td>14936</td>\n",
       "    </tr>\n",
       "    <tr>\n",
       "      <th>44806</th>\n",
       "      <td>29563</td>\n",
       "      <td>1070</td>\n",
       "      <td>40.697803</td>\n",
       "      <td>-73.994145</td>\n",
       "      <td>5</td>\n",
       "      <td>8</td>\n",
       "      <td>5</td>\n",
       "      <td>14936</td>\n",
       "    </tr>\n",
       "    <tr>\n",
       "      <th>44807</th>\n",
       "      <td>29563</td>\n",
       "      <td>1070</td>\n",
       "      <td>40.694673</td>\n",
       "      <td>-73.994082</td>\n",
       "      <td>5</td>\n",
       "      <td>13</td>\n",
       "      <td>0</td>\n",
       "      <td>14936</td>\n",
       "    </tr>\n",
       "  </tbody>\n",
       "</table>\n",
       "<p>44808 rows × 8 columns</p>\n",
       "</div>"
      ],
      "text/plain": [
       "         tid  label        lat        lon  day  hour  category   tid2\n",
       "0        127      6  40.834098 -73.945267    0    13         0      1\n",
       "1        127      6  40.567196 -73.882576    0    19         1      1\n",
       "2        127      6  40.689913 -73.981504    0    23         1      1\n",
       "3        127      6  40.708588 -73.991032    0    23         1      2\n",
       "4        127      6  40.833165 -73.941860    1    14         2      2\n",
       "...      ...    ...        ...        ...  ...   ...       ...    ...\n",
       "44803  29563   1070  40.704273 -73.986759    4    17         5  14935\n",
       "44804  29563   1070  40.704733 -73.987738    4    17         6  14935\n",
       "44805  29563   1070  40.695163 -73.995448    4    20         0  14936\n",
       "44806  29563   1070  40.697803 -73.994145    5     8         5  14936\n",
       "44807  29563   1070  40.694673 -73.994082    5    13         0  14936\n",
       "\n",
       "[44808 rows x 8 columns]"
      ]
     },
     "execution_count": 23,
     "metadata": {},
     "output_type": "execute_result"
    }
   ],
   "source": [
    "df"
   ]
  },
  {
   "cell_type": "code",
   "execution_count": 24,
   "id": "a7b03b4c",
   "metadata": {},
   "outputs": [
    {
     "name": "stderr",
     "output_type": "stream",
     "text": [
      "100%|███████████████████████████████████████████████████████████████████████████| 14936/14936 [00:19<00:00, 755.61it/s]\n",
      "C:\\Users\\USER\\AppData\\Local\\Temp\\ipykernel_17648\\4101085433.py:36: VisibleDeprecationWarning: Creating an ndarray from ragged nested sequences (which is a list-or-tuple of lists-or-tuples-or ndarrays with different lengths or shapes) is deprecated. If you meant to do this, you must specify 'dtype=object' when creating the ndarray.\n",
      "  converted_data = np.array([(f) for f in x])\n"
     ]
    },
    {
     "ename": "ValueError",
     "evalue": "could not broadcast input array from shape (3,24) into shape (3,)",
     "output_type": "error",
     "traceback": [
      "\u001b[1;31m---------------------------------------------------------------------------\u001b[0m",
      "\u001b[1;31mValueError\u001b[0m                                Traceback (most recent call last)",
      "\u001b[1;32m~\\AppData\\Local\\Temp\\ipykernel_17648\\2769059764.py\u001b[0m in \u001b[0;36m<module>\u001b[1;34m\u001b[0m\n\u001b[1;32m----> 1\u001b[1;33m \u001b[0mconverted_data\u001b[0m \u001b[1;33m=\u001b[0m \u001b[0mdata_conversion\u001b[0m\u001b[1;33m(\u001b[0m\u001b[0mdf\u001b[0m\u001b[1;33m,\u001b[0m\u001b[1;34m'tid2'\u001b[0m\u001b[1;33m)\u001b[0m\u001b[1;33m\u001b[0m\u001b[1;33m\u001b[0m\u001b[0m\n\u001b[0m\u001b[0;32m      2\u001b[0m \u001b[0mnp\u001b[0m\u001b[1;33m.\u001b[0m\u001b[0msave\u001b[0m\u001b[1;33m(\u001b[0m\u001b[0margs\u001b[0m\u001b[1;33m.\u001b[0m\u001b[0msave_path\u001b[0m\u001b[1;33m,\u001b[0m \u001b[0mconverted_data\u001b[0m\u001b[1;33m)\u001b[0m\u001b[1;33m\u001b[0m\u001b[1;33m\u001b[0m\u001b[0m\n",
      "\u001b[1;32m~\\AppData\\Local\\Temp\\ipykernel_17648\\4101085433.py\u001b[0m in \u001b[0;36mdata_conversion\u001b[1;34m(df, tid_col)\u001b[0m\n\u001b[0;32m     34\u001b[0m         \u001b[0mx\u001b[0m\u001b[1;33m[\u001b[0m\u001b[1;36m3\u001b[0m\u001b[1;33m]\u001b[0m\u001b[1;33m.\u001b[0m\u001b[0mappend\u001b[0m\u001b[1;33m(\u001b[0m\u001b[0mnp\u001b[0m\u001b[1;33m.\u001b[0m\u001b[0mones\u001b[0m\u001b[1;33m(\u001b[0m\u001b[0mshape\u001b[0m\u001b[1;33m=\u001b[0m\u001b[1;33m(\u001b[0m\u001b[0mfeatures\u001b[0m\u001b[1;33m[\u001b[0m\u001b[1;36m0\u001b[0m\u001b[1;33m]\u001b[0m\u001b[1;33m.\u001b[0m\u001b[0mshape\u001b[0m\u001b[1;33m[\u001b[0m\u001b[1;36m0\u001b[0m\u001b[1;33m]\u001b[0m\u001b[1;33m,\u001b[0m\u001b[1;36m1\u001b[0m\u001b[1;33m)\u001b[0m\u001b[1;33m)\u001b[0m\u001b[1;33m)\u001b[0m \u001b[1;31m#mask, feature[0]은 임의로 넣은듯??\u001b[0m\u001b[1;33m\u001b[0m\u001b[1;33m\u001b[0m\u001b[0m\n\u001b[0;32m     35\u001b[0m \u001b[1;33m\u001b[0m\u001b[0m\n\u001b[1;32m---> 36\u001b[1;33m     \u001b[0mconverted_data\u001b[0m \u001b[1;33m=\u001b[0m \u001b[0mnp\u001b[0m\u001b[1;33m.\u001b[0m\u001b[0marray\u001b[0m\u001b[1;33m(\u001b[0m\u001b[1;33m[\u001b[0m\u001b[1;33m(\u001b[0m\u001b[0mf\u001b[0m\u001b[1;33m)\u001b[0m \u001b[1;32mfor\u001b[0m \u001b[0mf\u001b[0m \u001b[1;32min\u001b[0m \u001b[0mx\u001b[0m\u001b[1;33m]\u001b[0m\u001b[1;33m)\u001b[0m\u001b[1;33m\u001b[0m\u001b[1;33m\u001b[0m\u001b[0m\n\u001b[0m\u001b[0;32m     37\u001b[0m \u001b[1;33m\u001b[0m\u001b[0m\n\u001b[0;32m     38\u001b[0m     \u001b[1;32mreturn\u001b[0m \u001b[0mconverted_data\u001b[0m\u001b[1;33m\u001b[0m\u001b[1;33m\u001b[0m\u001b[0m\n",
      "\u001b[1;31mValueError\u001b[0m: could not broadcast input array from shape (3,24) into shape (3,)"
     ]
    }
   ],
   "source": [
    "    converted_data = data_conversion(df,'tid2')\n",
    "    np.save(args.save_path, converted_data)"
   ]
  },
  {
   "cell_type": "code",
   "execution_count": 4,
   "id": "9d59be03",
   "metadata": {
    "scrolled": true
   },
   "outputs": [
    {
     "name": "stderr",
     "output_type": "stream",
     "text": [
      "100%|█████████████████████████████████████████████████████████████████████████████| 7384/7384 [00:08<00:00, 831.34it/s]"
     ]
    },
    {
     "name": "stdout",
     "output_type": "stream",
     "text": [
      "7384\n"
     ]
    },
    {
     "name": "stderr",
     "output_type": "stream",
     "text": [
      "\n"
     ]
    }
   ],
   "source": [
    "args = argparse.Namespace(load_path='test_latlon2.csv'\n",
    "                         ,save_path='te2.npy')\n",
    "df = pd.read_csv(args.load_path)\n",
    "data_conversion(df,'tid2')\n"
   ]
  },
  {
   "cell_type": "code",
   "execution_count": null,
   "id": "7b911560",
   "metadata": {},
   "outputs": [],
   "source": []
  },
  {
   "cell_type": "code",
   "execution_count": null,
   "id": "58a2dabe",
   "metadata": {},
   "outputs": [],
   "source": []
  },
  {
   "cell_type": "code",
   "execution_count": null,
   "id": "6ccfec83",
   "metadata": {},
   "outputs": [],
   "source": []
  },
  {
   "cell_type": "code",
   "execution_count": null,
   "id": "fd020a6b",
   "metadata": {},
   "outputs": [],
   "source": []
  },
  {
   "cell_type": "code",
   "execution_count": null,
   "id": "5de51aa5",
   "metadata": {},
   "outputs": [],
   "source": []
  },
  {
   "cell_type": "code",
   "execution_count": null,
   "id": "88669fd4",
   "metadata": {},
   "outputs": [],
   "source": []
  },
  {
   "cell_type": "code",
   "execution_count": null,
   "id": "faf7588e",
   "metadata": {},
   "outputs": [],
   "source": []
  },
  {
   "cell_type": "code",
   "execution_count": null,
   "id": "5678e449",
   "metadata": {},
   "outputs": [],
   "source": []
  },
  {
   "cell_type": "code",
   "execution_count": null,
   "id": "671cef36",
   "metadata": {},
   "outputs": [],
   "source": []
  }
 ],
 "metadata": {
  "kernelspec": {
   "display_name": "Python 3 (ipykernel)",
   "language": "python",
   "name": "python3"
  },
  "language_info": {
   "codemirror_mode": {
    "name": "ipython",
    "version": 3
   },
   "file_extension": ".py",
   "mimetype": "text/x-python",
   "name": "python",
   "nbconvert_exporter": "python",
   "pygments_lexer": "ipython3",
   "version": "3.9.15"
  }
 },
 "nbformat": 4,
 "nbformat_minor": 5
}
